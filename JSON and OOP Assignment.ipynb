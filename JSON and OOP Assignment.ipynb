{
 "cells": [
  {
   "cell_type": "markdown",
   "id": "647d74f6",
   "metadata": {},
   "source": [
    "# Create a JSON file (employee.json) containing employee information of minimum 5 employees. Each employee information consists of Name, DOB, Height, City, State. Write a python program that reads this information from the JSON file and saves the information into a list of objects of Employee class. Finally print the list of the Employee objects."
   ]
  },
  {
   "cell_type": "code",
   "execution_count": 12,
   "id": "073d70bf",
   "metadata": {},
   "outputs": [
    {
     "name": "stdout",
     "output_type": "stream",
     "text": [
      "json file is created\n"
     ]
    }
   ],
   "source": [
    "import json\n",
    "emp={\n",
    "    \"employee_details\":[\n",
    "  {\n",
    "   \"Name\": \"Shamanth BM\",\n",
    "   \"DOB\": \"22 Feb 1996\",\n",
    "   \"Height\": \"5ft 8inches\",\n",
    "   \"City\":\"Bengaluru\",\n",
    "   \"State\":\"Karnataka\"\n",
    "  },\n",
    "  {\n",
    "    \"Name\": \"Abhigowda\",\n",
    "    \"DOB\": \"7 October 1995\",\n",
    "    \"Height\": \"5ft 6inches\",\n",
    "    \"City\":\"Margodnalli\",\n",
    "    \"State\":\"Karnataka\"\n",
    "   },\n",
    "   {\n",
    "    \"Name\": \"Aray Huccha raghu\",\n",
    "    \"DOB\": \"9 September 1999\",\n",
    "    \"Height\": \"5ft 7inches\",\n",
    "    \"City\":\"Kumarkoppal\",\n",
    "    \"State\":\"Karnataka\"\n",
    "   },\n",
    "   {\n",
    "    \"Name\": \"Preetham Pakdu\",\n",
    "    \"DOB\": \"15 Octoberr 1995\",\n",
    "    \"Height\": \"5ft 5inches\",\n",
    "    \"City\":\"Mysore\",\n",
    "    \"State\":\"Karnataka\"\n",
    "   },\n",
    "{\n",
    "    \"Name\": \"Chandan Gende\",\n",
    "    \"DOB\": \"29 February 1995\",\n",
    "    \"Height\": \"5ft 5inches\",\n",
    "    \"City\":\"Nanjangud\",\n",
    "    \"State\":\"Karnataka\"\n",
    "   }\n",
    "]\n",
    "}\n",
    "\n",
    "with open(\"employee.json\",'w') as f:\n",
    "    json.dump(emp,f,indent=5)\n",
    "    print(\"json file is created\")"
   ]
  },
  {
   "cell_type": "markdown",
   "id": "a54f4afe",
   "metadata": {},
   "source": [
    "# Create a dictionary of any 7 Indian states and their capitals. Write this into a JSON file"
   ]
  },
  {
   "cell_type": "code",
   "execution_count": 13,
   "id": "e21d18f4",
   "metadata": {},
   "outputs": [
    {
     "name": "stdout",
     "output_type": "stream",
     "text": [
      "json file is created\n"
     ]
    }
   ],
   "source": [
    "import json\n",
    "\n",
    "state_capitals={\"Karnataka\":\"Bengaluru\",\n",
    "                \"Tamilnadu\":\"Chennai\",\n",
    "                \"Bihar\":\"Patna\", \n",
    "                \"Kerala\":\"Thiruvanantapuram\", \n",
    "                \"Andra Pradesh\":\"Amaravathi\",\n",
    "                \"telangana\":\"Hyderabad\",\n",
    "                \"Kashmir\":\"Srinagar\"}\n",
    "\n",
    "with open(\"states.json\",'w') as f:\n",
    "    json.dump(state_capitals,f,indent=5)\n",
    "    print(\"json file is created\")"
   ]
  },
  {
   "cell_type": "markdown",
   "id": "ee339d51",
   "metadata": {},
   "source": [
    "# Create a class named ‘Dog’. It should have a constructor which accepts its name, age and coat color. You must perform the following operations:It should have a function ‘description()’ which prints the name and age of the dog.It should have a function ‘get_info()’ which prints the coat color of the dog.Create child classes ‘JackRussellTerrier’ and ‘Bulldog’ which is inherited from the class ‘Dog’. It should have at least two methods of its own.Create objects and implement the above functionalities."
   ]
  },
  {
   "cell_type": "code",
   "execution_count": 14,
   "id": "2bd5bd32",
   "metadata": {},
   "outputs": [
    {
     "name": "stdout",
     "output_type": "stream",
     "text": [
      "Goofy is 7 years old\n",
      "Goofy is Black in color\n",
      "Chintu is 7 years old\n",
      "Chintu is Silver in color\n",
      "-----------\n",
      "Goofy is a Jack Russel Terrier\n",
      "Goofy is happy\n",
      "Goofy is fit\n",
      "-----------\n",
      "Misty is a Bulldog\n",
      "Misty is depressed\n",
      "Misty is fat\n",
      "-----------\n"
     ]
    }
   ],
   "source": [
    "class Dog:\n",
    "    \n",
    "    def __init__(self, name, age, coatcolor):\n",
    "        self.name = name\n",
    "        self.age = age\n",
    "        self.coatcolor=coatcolor  \n",
    "        \n",
    "    def description(self): \n",
    "        return f\"{self.name} is {self.age} years old\"\n",
    "    \n",
    "    def get_info(self):\n",
    "        return f\"{self.name} is {self.coatcolor} in color\"\n",
    "    \n",
    "    \n",
    "class JackRussellTerrier(Dog):\n",
    "    \n",
    "    def breed(self, breed=\"Jack Russel Terrier\"):\n",
    "        return f\"{self.name} is a {breed}\"\n",
    "    \n",
    "    def state(self, state=\"happy\"):\n",
    "        return f\"{self.name} is {state}\"\n",
    "    \n",
    "    def size(self,size=\"fit\"):\n",
    "        return f\"{self.name} is {size}\"\n",
    "    \n",
    "class Bulldog(Dog):\n",
    "    \n",
    "    def breed(self, breed=\"Bulldog\"):\n",
    "        return f\"{self.name} is a {breed}\"\n",
    "    \n",
    "    def state(self, state=\"depressed\"):\n",
    "        return f\"{self.name} is {state}\"\n",
    "    \n",
    "    def size(self,size=\"fat\"):\n",
    "        return f\"{self.name} is {size}\"\n",
    "    \n",
    "Kutta=Dog(\"Goofy\",7,\"Black\")\n",
    "print(Kutta.description())\n",
    "print(Kutta.get_info())\n",
    "\n",
    "Chintu=Dog(\"Chintu\",7,\"Silver\")\n",
    "print(Chintu.description())\n",
    "print(Chintu.get_info())\n",
    "print(\"-----------\")\n",
    "\n",
    "Kutta=JackRussellTerrier(\"Goofy\", 5,\"Brown\")\n",
    "print(Kutta.breed())\n",
    "print(Kutta.state())\n",
    "print(Kutta.size())\n",
    "print(\"-----------\")\n",
    "\n",
    "nayi=Bulldog(\"Misty\",6,\"White\")\n",
    "print(nayi.breed())\n",
    "print(nayi.state())\n",
    "print(nayi.size())\n",
    "print(\"-----------\")"
   ]
  },
  {
   "cell_type": "code",
   "execution_count": null,
   "id": "993a02e7",
   "metadata": {},
   "outputs": [],
   "source": []
  }
 ],
 "metadata": {
  "kernelspec": {
   "display_name": "Python 3 (ipykernel)",
   "language": "python",
   "name": "python3"
  },
  "language_info": {
   "codemirror_mode": {
    "name": "ipython",
    "version": 3
   },
   "file_extension": ".py",
   "mimetype": "text/x-python",
   "name": "python",
   "nbconvert_exporter": "python",
   "pygments_lexer": "ipython3",
   "version": "3.9.12"
  }
 },
 "nbformat": 4,
 "nbformat_minor": 5
}
