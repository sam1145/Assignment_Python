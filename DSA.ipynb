{
 "cells": [
  {
   "cell_type": "markdown",
   "id": "802d4684",
   "metadata": {},
   "source": [
    "# Q1. Write a program to find all pairs of an integer array whose sum is equal to a given number?"
   ]
  },
  {
   "cell_type": "code",
   "execution_count": 7,
   "id": "9e5bbb9a",
   "metadata": {},
   "outputs": [
    {
     "name": "stdout",
     "output_type": "stream",
     "text": [
      "Array=  [1, 2, 3, 4, 5, 6, 7]\n",
      "Pairs whose sum is :  4\n",
      "1 3\n",
      "2 2\n"
     ]
    }
   ],
   "source": [
    "def find_sum(array, len, sum):\n",
    "    print(\"Pairs whose sum is : \", sum)\n",
    "    for i in range(len):\n",
    "        for j in range(i, len):\n",
    "            if (array[i] + array[j]) == sum:\n",
    "                print(array[i], array[j])\n",
    "\n",
    "\n",
    "array = [1,2,3,4,5,6,7]\n",
    "\n",
    "sum = 4\n",
    "\n",
    "print(\"Array= \", array)\n",
    "\n",
    "find_sum(array, len(array), sum)"
   ]
  },
  {
   "cell_type": "markdown",
   "id": "aa0aa021",
   "metadata": {},
   "source": [
    "# Q2. Write a program to reverse an array in place? In place means you cannot create a new array. You have to update the original array."
   ]
  },
  {
   "cell_type": "code",
   "execution_count": 11,
   "id": "21dda695",
   "metadata": {},
   "outputs": [
    {
     "name": "stdout",
     "output_type": "stream",
     "text": [
      "[50, 40, 30, 20, 10]\n"
     ]
    }
   ],
   "source": [
    "def reverseList(A, start, end):\n",
    "    \n",
    "  while start < end:\n",
    "    A[start], A[end] = A[end], A[start]\n",
    "    start += 1\n",
    "    end -= 1\n",
    "    \n",
    "A = [10,20,30,40,50]\n",
    "reverseList(A, 0, 4)\n",
    "print(A)"
   ]
  },
  {
   "cell_type": "markdown",
   "id": "77d07272",
   "metadata": {},
   "source": [
    "# Q3. Write a program to check if two strings are a rotation of each other?"
   ]
  },
  {
   "cell_type": "code",
   "execution_count": 12,
   "id": "fa6db453",
   "metadata": {},
   "outputs": [
    {
     "name": "stdout",
     "output_type": "stream",
     "text": [
      "True\n"
     ]
    }
   ],
   "source": [
    "def solve(s, t):\n",
    "   if len(s) != len(t):\n",
    "      return False\n",
    " \n",
    "   temp = s + s\n",
    " \n",
    "   if temp.count(t)> 0:\n",
    "      return True\n",
    "   return False\n",
    "\n",
    "s = \"hello\"\n",
    "t = \"llohe\"\n",
    "print(solve(s, t))"
   ]
  },
  {
   "cell_type": "markdown",
   "id": "e617e313",
   "metadata": {},
   "source": [
    "# Q4. Write a program to print the first non-repeated character from a string?"
   ]
  },
  {
   "cell_type": "code",
   "execution_count": 13,
   "id": "5b1a7045",
   "metadata": {},
   "outputs": [
    {
     "name": "stdout",
     "output_type": "stream",
     "text": [
      "S m n t "
     ]
    }
   ],
   "source": [
    "String = \"Shamanth\"\n",
    "for i in String:\n",
    "    \n",
    "    count = 0\n",
    "    for j in String:\n",
    "        \n",
    "        if i == j:\n",
    "            count+=1\n",
    "        \n",
    "        if count > 1:\n",
    "            break\n",
    "    \n",
    "    if count == 1:\n",
    "        print(i,end = \" \")"
   ]
  },
  {
   "cell_type": "markdown",
   "id": "ccef82e0",
   "metadata": {},
   "source": [
    "# Q5. Tower of Hanoi is a mathematical puzzle where we have three rods and n disks. The objective of the puzzle is to move the entire stack to another rod, obeying the following simple rules:\n",
    "\n",
    "Only one disk can be moved at a time.\n",
    "\n",
    "Each move consists of taking the upper disk from one of the stacks and placing it on top of another stack i.e. a disk can only be moved if it is the uppermost disk on a stack.\n",
    "\n",
    "No disk may be placed on top of a smaller disk.\n",
    "\n",
    "Note: Transferring the top n-1 disks from source rod to Auxiliary rod can again be thought of as a fresh problem and can be solved in the same manner."
   ]
  },
  {
   "cell_type": "code",
   "execution_count": 15,
   "id": "5a856724",
   "metadata": {},
   "outputs": [
    {
     "name": "stdout",
     "output_type": "stream",
     "text": [
      "Move disk 1 from peg S  to peg A\n",
      "Move disk 2  from peg S  to peg M\n",
      "Move disk 1 from peg A  to peg M\n",
      "Move disk 3  from peg S  to peg A\n",
      "Move disk 1 from peg M  to peg S\n",
      "Move disk 2  from peg M  to peg A\n",
      "Move disk 1 from peg S  to peg A\n"
     ]
    }
   ],
   "source": [
    "def tower_of_hanoi(n, source, destination, helper):\n",
    "    if n==1:\n",
    "        print (\"Move disk 1 from peg\", source,\" to peg\", destination)\n",
    "        return\n",
    "    \n",
    "    tower_of_hanoi(n-1, source, helper, destination)\n",
    "    print (\"Move disk\",n,\" from peg\", source,\" to peg\", destination)\n",
    "    tower_of_hanoi(n-1, helper, destination, source)\n",
    "    \n",
    "n = 3\n",
    "tower_of_hanoi(n,'S','A','M')"
   ]
  },
  {
   "cell_type": "markdown",
   "id": "3b6a3448",
   "metadata": {},
   "source": [
    "# Q6. Read about infix, prefix, and postfix expressions. Write a program to convert postfix to prefix expression."
   ]
  },
  {
   "cell_type": "code",
   "execution_count": 18,
   "id": "12f09a89",
   "metadata": {},
   "outputs": [
    {
     "name": "stdout",
     "output_type": "stream",
     "text": [
      "Prefix :  +SA-DE\n"
     ]
    }
   ],
   "source": [
    "def isOperator(x):\n",
    "\n",
    "    if x == \"+\":\n",
    "        return True\n",
    "\n",
    "    if x == \"-\":\n",
    "        return True\n",
    "\n",
    "    if x == \"/\":\n",
    "        return True\n",
    "\n",
    "    if x == \"*\":\n",
    "        return True\n",
    "\n",
    "    return False\n",
    "\n",
    "def postToPre(post_exp):\n",
    "\n",
    "    s = []\n",
    "\n",
    "    length = len(post_exp)\n",
    "\n",
    "    for i in range(length):\n",
    "\n",
    "        if (isOperator(post_exp[i])):\n",
    "\n",
    "            op1 = s[-1]\n",
    "            s.pop()\n",
    "            op2 = s[-1]\n",
    "            s.pop()\n",
    "\n",
    "            temp = post_exp[i] + op2 + op1\n",
    "\n",
    "            s.append(temp)\n",
    "\n",
    "        else:\n",
    "\n",
    "            s.append(post_exp[i])\n",
    "\n",
    "    ans = \"\"\n",
    "    for i in s:\n",
    "        ans += i\n",
    "    return ans\n",
    "\n",
    "if __name__ == \"__main__\":\n",
    "\n",
    "    post_exp = \"SA+DE-\"\n",
    "\n",
    "    print(\"Prefix : \", postToPre(post_exp))"
   ]
  },
  {
   "cell_type": "markdown",
   "id": "1cbe9ba8",
   "metadata": {},
   "source": [
    "# Q7. Write a program to convert prefix expression to infix expression."
   ]
  },
  {
   "cell_type": "code",
   "execution_count": 19,
   "id": "6b4f4ba8",
   "metadata": {},
   "outputs": [
    {
     "name": "stdout",
     "output_type": "stream",
     "text": [
      "((A-(B/C))*((A/K)-L))\n"
     ]
    }
   ],
   "source": [
    "def prefixToInfix(prefix):\n",
    "    stack = []\n",
    "     \n",
    "    i = len(prefix) - 1\n",
    "    while i >= 0:\n",
    "        if not isOperator(prefix[i]):\n",
    "             \n",
    "            stack.append(prefix[i])\n",
    "            i -= 1\n",
    "        else:\n",
    "           \n",
    "            str = \"(\" + stack.pop() + prefix[i] + stack.pop() + \")\"\n",
    "            stack.append(str)\n",
    "            i -= 1\n",
    "     \n",
    "    return stack.pop()\n",
    " \n",
    "def isOperator(c):\n",
    "    if c == \"*\" or c == \"+\" or c == \"-\" or c == \"/\" or c == \"^\" or c == \"(\" or c == \")\":\n",
    "        return True\n",
    "    else:\n",
    "        return False\n",
    " \n",
    "# Driver code\n",
    "if __name__==\"__main__\":\n",
    "    str = \"*-A/BC-/AKL\"\n",
    "    print(prefixToInfix(str))"
   ]
  },
  {
   "cell_type": "markdown",
   "id": "d57a7c2e",
   "metadata": {},
   "source": [
    "# Q8. Write a program to check if all the brackets are closed in a given code snippet."
   ]
  },
  {
   "cell_type": "code",
   "execution_count": 33,
   "id": "1b9a82c8",
   "metadata": {},
   "outputs": [
    {
     "name": "stdout",
     "output_type": "stream",
     "text": [
      "Given string is balanced : True\n"
     ]
    }
   ],
   "source": [
    "def isbalanced(s):\n",
    "    \n",
    "  c= 0\n",
    "  ans=False\n",
    "    \n",
    "  for i in s:\n",
    "    if i == \"(\": \n",
    "     c += 1\n",
    "    \n",
    "    elif i == \")\":\n",
    "     c-= 1\n",
    "    \n",
    "    if c < 0:\n",
    "     return ans\n",
    "\n",
    "    if c==0:\n",
    "     return not ans\n",
    "  return ans\n",
    "\n",
    "s=\"{[]}\"\n",
    "print(\"Given string is balanced :\",isbalanced(s))"
   ]
  },
  {
   "cell_type": "markdown",
   "id": "dd389a47",
   "metadata": {},
   "source": [
    "# Q9. Write a program to reverse a stack"
   ]
  },
  {
   "cell_type": "code",
   "execution_count": 21,
   "id": "b2c51f5c",
   "metadata": {},
   "outputs": [
    {
     "name": "stdout",
     "output_type": "stream",
     "text": [
      "Original Stack\n",
      "5\n",
      "4\n",
      "3\n",
      "2\n",
      "1\n",
      "\n",
      "Stack after Reversing\n",
      "1\n",
      "2\n",
      "3\n",
      "4\n",
      "5\n"
     ]
    }
   ],
   "source": [
    "class Stack:\n",
    "\n",
    "    def __init__(self):\n",
    "        self.Elements = []\n",
    "\n",
    "    def push(self, value):\n",
    "        self.Elements.append(value)\n",
    "\n",
    "    def pop(self):\n",
    "        return self.Elements.pop()\n",
    "\n",
    "    def empty(self):\n",
    "        return self.Elements == []\n",
    "\n",
    "    def show(self):\n",
    "        for value in reversed(self.Elements):\n",
    "            print(value)\n",
    "\n",
    "\n",
    "def BottomInsert(s, value):\n",
    "\n",
    "    if s.empty():\n",
    "        s.push(value)\n",
    "\n",
    "    else:\n",
    "        popped = s.pop()\n",
    "        BottomInsert(s, value)\n",
    "        s.push(popped)\n",
    "\n",
    "def Reverse(s):\n",
    "    if s.empty():\n",
    "        pass\n",
    "    else:\n",
    "        popped = s.pop()\n",
    "        Reverse(s)\n",
    "        BottomInsert(s, popped)\n",
    "\n",
    "stk = Stack()\n",
    "\n",
    "stk.push(1)\n",
    "stk.push(2)\n",
    "stk.push(3)\n",
    "stk.push(4)\n",
    "stk.push(5)\n",
    "\n",
    "print(\"Original Stack\")\n",
    "stk.show()\n",
    "\n",
    "print(\"\\nStack after Reversing\")\n",
    "Reverse(stk)\n",
    "stk.show()"
   ]
  },
  {
   "cell_type": "markdown",
   "id": "5c38c7ea",
   "metadata": {},
   "source": [
    "# Q10. Write a program to find the smallest number using a stack."
   ]
  },
  {
   "cell_type": "code",
   "execution_count": 32,
   "id": "6f792a96",
   "metadata": {},
   "outputs": [
    {
     "name": "stdout",
     "output_type": "stream",
     "text": [
      "The smallest number in the list is 2\n"
     ]
    }
   ],
   "source": [
    "import numpy as np\n",
    "\n",
    "lis = [5, 7, 2, 8, 9]\n",
    "\n",
    "minimum = np.min(lis)\n",
    "\n",
    "print(\"The smallest number in the list is\", minimum)"
   ]
  },
  {
   "cell_type": "code",
   "execution_count": null,
   "id": "25065106",
   "metadata": {},
   "outputs": [],
   "source": []
  }
 ],
 "metadata": {
  "kernelspec": {
   "display_name": "Python 3 (ipykernel)",
   "language": "python",
   "name": "python3"
  },
  "language_info": {
   "codemirror_mode": {
    "name": "ipython",
    "version": 3
   },
   "file_extension": ".py",
   "mimetype": "text/x-python",
   "name": "python",
   "nbconvert_exporter": "python",
   "pygments_lexer": "ipython3",
   "version": "3.9.12"
  }
 },
 "nbformat": 4,
 "nbformat_minor": 5
}
