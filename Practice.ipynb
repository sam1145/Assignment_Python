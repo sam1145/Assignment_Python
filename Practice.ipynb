{
 "cells": [
  {
   "cell_type": "code",
   "execution_count": 2,
   "id": "b7d698ee",
   "metadata": {},
   "outputs": [
    {
     "name": "stdout",
     "output_type": "stream",
     "text": [
      "['apple, banana, cherry', 'BMW', 'VW', 'Volco']\n"
     ]
    }
   ],
   "source": [
    "# extend\n",
    "fruits = ['apple, banana, cherry']\n",
    "cars = ['BMW', \"VW\", 'Volco']\n",
    "\n",
    "fruits.extend(cars)\n",
    "print(fruits)"
   ]
  },
  {
   "cell_type": "code",
   "execution_count": 4,
   "id": "7cacfec4",
   "metadata": {},
   "outputs": [
    {
     "data": {
      "text/plain": [
       "True"
      ]
     },
     "execution_count": 4,
     "metadata": {},
     "output_type": "execute_result"
    }
   ],
   "source": [
    "# paliandrome\n",
    "\n",
    "s = 'amma'\n",
    "def is_paliandrome(S):\n",
    "    return s[::-1]==s\n",
    "is_paliandrome(s)"
   ]
  },
  {
   "cell_type": "code",
   "execution_count": 5,
   "id": "704eaded",
   "metadata": {},
   "outputs": [
    {
     "data": {
      "text/plain": [
       "12"
      ]
     },
     "execution_count": 5,
     "metadata": {},
     "output_type": "execute_result"
    }
   ],
   "source": [
    "# adding two numbers\n",
    "\n",
    "def add_two_numbers(x,y):\n",
    "    return(x+y)\n",
    "add_two_numbers(5,7)"
   ]
  },
  {
   "cell_type": "code",
   "execution_count": 8,
   "id": "1a3975d8",
   "metadata": {},
   "outputs": [
    {
     "data": {
      "text/plain": [
       "100"
      ]
     },
     "execution_count": 8,
     "metadata": {},
     "output_type": "execute_result"
    }
   ],
   "source": [
    "#largest element in the array\n",
    "\n",
    "def largest_element(arr):\n",
    "    max = arr[0]\n",
    "    for i in range(1, len(arr)):\n",
    "        if arr[i]>max:\n",
    "            max = arr[i]\n",
    "    return max\n",
    "\n",
    "largest_element([2,20,4,100,3])"
   ]
  },
  {
   "cell_type": "code",
   "execution_count": 11,
   "id": "8135de54",
   "metadata": {},
   "outputs": [
    {
     "data": {
      "text/plain": [
       "[56, 23, 34, 12]"
      ]
     },
     "execution_count": 11,
     "metadata": {},
     "output_type": "execute_result"
    }
   ],
   "source": [
    "# interchange first and last element in the list\n",
    "\n",
    "def swap_first_and_last_element(l):\n",
    "    temp=l[0]\n",
    "    l[0]=l[len(l)-1]\n",
    "    l[len(l)-1]=temp\n",
    "    \n",
    "    return l\n",
    "    \n",
    "swap_first_and_last_element([12,23,34,56])"
   ]
  },
  {
   "cell_type": "code",
   "execution_count": 16,
   "id": "1c63ab4a",
   "metadata": {},
   "outputs": [
    {
     "data": {
      "text/plain": [
       "<function __main__.sum_of_array(arr)>"
      ]
     },
     "execution_count": 16,
     "metadata": {},
     "output_type": "execute_result"
    }
   ],
   "source": [
    "#sum of array\n",
    "\n",
    "def sum_of_array(arr):\n",
    "    sum_of_numbers = 0\n",
    "    for i in range(0, len(arr)):\n",
    "        sum_of_numbers = sum_of_numbers + arr[i]\n",
    "    return sum_of_array\n",
    "\n",
    "sum_of_array([100,200,300])"
   ]
  },
  {
   "cell_type": "code",
   "execution_count": 18,
   "id": "f4095560",
   "metadata": {},
   "outputs": [
    {
     "data": {
      "text/plain": [
       "3628800"
      ]
     },
     "execution_count": 18,
     "metadata": {},
     "output_type": "execute_result"
    }
   ],
   "source": [
    "#factorial of a number\n",
    "\n",
    "def factorial_of_a_number(number):\n",
    "    factorial = 1\n",
    "    \n",
    "    if number < 0:\n",
    "        return \"factorial valid for only positive number\"\n",
    "    \n",
    "    elif number ==0:\n",
    "        return 'enter positive number'\n",
    "    \n",
    "    else:\n",
    "        for i in range(1, number+1):\n",
    "            factorial = factorial * i\n",
    "            \n",
    "    return factorial\n",
    "\n",
    "factorial_of_a_number(10)"
   ]
  },
  {
   "cell_type": "code",
   "execution_count": 20,
   "id": "e7e35417",
   "metadata": {},
   "outputs": [
    {
     "name": "stdout",
     "output_type": "stream",
     "text": [
      "enter length = \n",
      "12\n",
      "enter breadth \n",
      "10\n",
      "it is not a square\n"
     ]
    }
   ],
   "source": [
    "#check if its a square or not\n",
    "\n",
    "print('enter length = ')\n",
    "l = int(input())\n",
    "\n",
    "print('enter breadth ')\n",
    "b = int(input())\n",
    "\n",
    "if l ==b:\n",
    "    print( 'it is a square')\n",
    "    \n",
    "else:\n",
    "    print('it is not a square')\n",
    "    "
   ]
  },
  {
   "cell_type": "code",
   "execution_count": 21,
   "id": "77317f62",
   "metadata": {},
   "outputs": [
    {
     "name": "stdout",
     "output_type": "stream",
     "text": [
      "enter first number: \n",
      "10\n",
      "enter second number: \n",
      "12\n",
      "n2 greater than n1\n"
     ]
    }
   ],
   "source": [
    "# great among two numbers\n",
    "\n",
    "print('enter first number: ')\n",
    "n1 = int(input())\n",
    "\n",
    "print('enter second number: ')\n",
    "n2 = int(input())\n",
    "\n",
    "if n1>n2:\n",
    "    print('n1 greater than n2')\n",
    "    \n",
    "elif n1==n2:\n",
    "    print('n1 and n2 both are same')\n",
    "    \n",
    "else:\n",
    "    print('n2 greater than n1')"
   ]
  },
  {
   "cell_type": "code",
   "execution_count": 24,
   "id": "fd467f35",
   "metadata": {},
   "outputs": [
    {
     "name": "stdout",
     "output_type": "stream",
     "text": [
      "enter number: 3\n",
      "4\n",
      "16\n",
      "256\n",
      "65536\n"
     ]
    }
   ],
   "source": [
    "# power of 2 till the number entered by user\n",
    "\n",
    "\n",
    "n = 2\n",
    "exp = int(input('enter number: '))\n",
    "\n",
    "for i in range (0, exp+1):\n",
    "    n = n**2\n",
    "    print(n)\n",
    "\n"
   ]
  },
  {
   "cell_type": "code",
   "execution_count": 27,
   "id": "cfa7c1fc",
   "metadata": {},
   "outputs": [
    {
     "name": "stdout",
     "output_type": "stream",
     "text": [
      "enter the number: 9\n",
      "Odd number \n"
     ]
    }
   ],
   "source": [
    "# even or odd\n",
    "\n",
    "n = int(input('enter the number: '))\n",
    "\n",
    "if n%2 == 0:\n",
    "    print('Even number ')\n",
    "    \n",
    "else: \n",
    "    print('Odd number ')"
   ]
  },
  {
   "cell_type": "code",
   "execution_count": 31,
   "id": "5b66f3c1",
   "metadata": {},
   "outputs": [
    {
     "name": "stdout",
     "output_type": "stream",
     "text": [
      "enter the number: 25\n",
      "even list:  [2, 4, 6, 8, 10, 12, 14, 16, 18, 20, 22, 24]\n",
      "odd list:  [1, 3, 5, 7, 9, 11, 13, 15, 17, 19, 21, 23, 25]\n"
     ]
    }
   ],
   "source": [
    "# take a number from user and print all the even and odd numbers in a seperate list\n",
    "\n",
    "n = int(input('enter the number: '))\n",
    "\n",
    "even_list = []\n",
    "odd_list = []\n",
    "\n",
    "for i in range(1, n+1):\n",
    "    if i %2 == 0:\n",
    "        even_list.append(i)\n",
    "    else:\n",
    "        odd_list.append(i)\n",
    "        \n",
    "print('even list: ', even_list)\n",
    "print('odd list: ', odd_list)"
   ]
  },
  {
   "cell_type": "code",
   "execution_count": 35,
   "id": "1a043a42",
   "metadata": {},
   "outputs": [
    {
     "name": "stdout",
     "output_type": "stream",
     "text": [
      "enter the lower limit: 10\n",
      "enter the upper limit: 20\n",
      "11\n",
      "11\n",
      "11\n",
      "11\n",
      "11\n",
      "11\n",
      "11\n",
      "11\n",
      "11\n",
      "13\n",
      "13\n",
      "13\n",
      "13\n",
      "13\n",
      "13\n",
      "13\n",
      "13\n",
      "13\n",
      "13\n",
      "13\n",
      "15\n",
      "17\n",
      "17\n",
      "17\n",
      "17\n",
      "17\n",
      "17\n",
      "17\n",
      "17\n",
      "17\n",
      "17\n",
      "17\n",
      "17\n",
      "17\n",
      "17\n",
      "17\n",
      "19\n",
      "19\n",
      "19\n",
      "19\n",
      "19\n",
      "19\n",
      "19\n",
      "19\n",
      "19\n",
      "19\n",
      "19\n",
      "19\n",
      "19\n",
      "19\n",
      "19\n",
      "19\n",
      "19\n"
     ]
    }
   ],
   "source": [
    "# take a number from the user and print all the prime numbers\n",
    "\n",
    "lower = int(input('enter the lower limit: '))\n",
    "upper = int(input('enter the upper limit: '))\n",
    "\n",
    "for number in range(lower, upper+1):\n",
    "    if number>1:\n",
    "        for i in range(2, number):\n",
    "            if (number%i)==0:\n",
    "                break\n",
    "            else:\n",
    "                print(number)"
   ]
  },
  {
   "cell_type": "code",
   "execution_count": null,
   "id": "56b32d75",
   "metadata": {},
   "outputs": [],
   "source": []
  }
 ],
 "metadata": {
  "kernelspec": {
   "display_name": "Python 3 (ipykernel)",
   "language": "python",
   "name": "python3"
  },
  "language_info": {
   "codemirror_mode": {
    "name": "ipython",
    "version": 3
   },
   "file_extension": ".py",
   "mimetype": "text/x-python",
   "name": "python",
   "nbconvert_exporter": "python",
   "pygments_lexer": "ipython3",
   "version": "3.9.12"
  }
 },
 "nbformat": 4,
 "nbformat_minor": 5
}
