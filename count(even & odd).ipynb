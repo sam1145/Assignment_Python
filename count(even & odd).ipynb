{
 "cells": [
  {
   "cell_type": "code",
   "execution_count": 10,
   "id": "696c8594",
   "metadata": {},
   "outputs": [
    {
     "name": "stdout",
     "output_type": "stream",
     "text": [
      "number of even numbers:  5\n",
      "number of odd numbers:  6\n"
     ]
    }
   ],
   "source": [
    "numbers = (1,2,3,4,5,6,7,8,9,10,11)\n",
    "\n",
    "even_count = 0\n",
    "odd_count = 0\n",
    "\n",
    "for i in numbers:\n",
    "    if not i % 2 :\n",
    "        even_count = even_count+1\n",
    "    else:\n",
    "        odd_count = odd_count + 1\n",
    "        \n",
    "print('number of even numbers: ', even_count)\n",
    "print('number of odd numbers: ', odd_count)    "
   ]
  },
  {
   "cell_type": "code",
   "execution_count": null,
   "id": "c4410216",
   "metadata": {},
   "outputs": [],
   "source": []
  }
 ],
 "metadata": {
  "kernelspec": {
   "display_name": "Python 3 (ipykernel)",
   "language": "python",
   "name": "python3"
  },
  "language_info": {
   "codemirror_mode": {
    "name": "ipython",
    "version": 3
   },
   "file_extension": ".py",
   "mimetype": "text/x-python",
   "name": "python",
   "nbconvert_exporter": "python",
   "pygments_lexer": "ipython3",
   "version": "3.9.12"
  }
 },
 "nbformat": 4,
 "nbformat_minor": 5
}
