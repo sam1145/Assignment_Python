{
 "cells": [
  {
   "cell_type": "code",
   "execution_count": null,
   "id": "058233d4",
   "metadata": {},
   "outputs": [
    {
     "name": "stdout",
     "output_type": "stream",
     "text": [
      "1: Add\n",
      "2: Subtract\n",
      "3: Multiply\n",
      "4: Divide\n",
      "5: Exit\n",
      "Select operation: 3\n",
      "Enter first number: 4\n",
      "Enter second number: 5\n",
      "4 * 5 = 20\n",
      "1: Add\n",
      "2: Subtract\n",
      "3: Multiply\n",
      "4: Divide\n",
      "5: Exit\n"
     ]
    }
   ],
   "source": [
    "class Calculator:\n",
    "    def add(self, num1, num2):\n",
    "        return num1 + num2\n",
    "    \n",
    "    def subtract(self, num1, num2):\n",
    "        return num1 - num2\n",
    "        \n",
    "    def multiply(self, num1, num2):\n",
    "        return num1 * num2\n",
    "\n",
    "    def divide(self, num1, num2):\n",
    "        return num1 / num2\n",
    "\n",
    "    #creating object for the class calculator\n",
    "my_cl = Calculator()\n",
    "\n",
    "while True:\n",
    "\n",
    "    print(\"1: Add\")\n",
    "    print(\"2: Subtract\")\n",
    "    print(\"3: Multiply\")\n",
    "    print(\"4: Divide\")\n",
    "    print(\"5: Exit\")\n",
    "    \n",
    "    choice = int(input(\"Select operation: \"))\n",
    "    \n",
    "    #Make sure the user have entered the valid choice\n",
    "    if choice in (1, 2, 3, 4, 5):\n",
    "        \n",
    "        #first check whether user want to exit\n",
    "        if(choice == 5):\n",
    "            break\n",
    "        \n",
    "        #If not then ask fo the input and call appropiate methods        \n",
    "        num1 = int(input(\"Enter first number: \"))\n",
    "        num2 = int(input(\"Enter second number: \"))\n",
    "        \n",
    "        if(choice == 1):\n",
    "            print(num1, \"+\", num2, \"=\", my_cl.add(num1, num2))\n",
    "        elif(choice == 2):\n",
    "            print(num1, \"-\", num2, \"=\", my_cl.subtract(num1, num2))\n",
    "        elif(choice == 3):\n",
    "            print(num1, \"*\", num2, \"=\", my_cl.multiply(num1, num2))\n",
    "        elif(choice == 4):\n",
    "            print(num1, \"/\", num2, \"=\", my_cl.divide(num1, num2))\n",
    "    \n",
    "    else:\n",
    "        print(\"Invalid Input\")"
   ]
  },
  {
   "cell_type": "markdown",
   "id": "ada2a003",
   "metadata": {},
   "source": [
    "# Square and Sum"
   ]
  },
  {
   "cell_type": "code",
   "execution_count": 1,
   "id": "33ec2efe",
   "metadata": {},
   "outputs": [
    {
     "name": "stdout",
     "output_type": "stream",
     "text": [
      "Enter first number:2\n",
      "Enter second number:4\n",
      "Enter third number:8\n",
      "84\n"
     ]
    }
   ],
   "source": [
    "class Point:\n",
    "    \n",
    "    def __init__(self,x,y,z):\n",
    "        self.x = x\n",
    "        self.y = y\n",
    "        self.z = z\n",
    "\n",
    "    def sqSum(x,y,z):\n",
    "\n",
    "        x= x*x\n",
    "        y= y*y\n",
    "        z= z*z\n",
    "        return x+y+z\n",
    "    \n",
    "    x = int(input(\"Enter first number:\"))\n",
    "    y = int(input(\"Enter second number:\"))\n",
    "    z = int(input(\"Enter third number:\"))\n",
    "    \n",
    "    print(sqSum(x,y,z))"
   ]
  },
  {
   "cell_type": "markdown",
   "id": "88807387",
   "metadata": {},
   "source": [
    "# Implementing a bank account"
   ]
  },
  {
   "cell_type": "code",
   "execution_count": null,
   "id": "5e55b1bf",
   "metadata": {},
   "outputs": [],
   "source": [
    "#challenge-4, task-1\n",
    "\n",
    "class Account:\n",
    "    def __init__(self, title=None, balance=0):\n",
    "        self.title = title\n",
    "        self.balance = balance\n",
    "\n",
    "\n",
    "class SavingsAccount(Account):\n",
    "    def __init__(self, title=None, balance=0, interestRate=0):\n",
    "#The super() function is used to give access to methods and properties of a parent or child class\n",
    "        super().__init__(title, balance)\n",
    "        self.interestRate = interestRate"
   ]
  },
  {
   "cell_type": "code",
   "execution_count": 3,
   "id": "a869b3b6",
   "metadata": {},
   "outputs": [
    {
     "name": "stdout",
     "output_type": "stream",
     "text": [
      "Initial Balance: 5000\n",
      "Interest on current balance: 250.0\n"
     ]
    }
   ],
   "source": [
    "#challenge-4, task-2\n",
    "\n",
    "\n",
    "class Account:  \n",
    "    def __init__(self, title=None, balance=0):\n",
    "        self.title = title\n",
    "        self.balance = balance\n",
    "    \n",
    "    def deposit(self, amount):\n",
    "        self.balance = self.balance + amount\n",
    "    \n",
    "    def getBalance(self):\n",
    "        return self.balance\n",
    "\n",
    "\n",
    "class SavingsAccount(Account):\n",
    "    def __init__(self, title=None, balance=0, interestRate=0):\n",
    "        super().__init__(title, balance)\n",
    "        self.interestRate = interestRate\n",
    "    \n",
    "    def interestAmount(self):\n",
    "        return (self.balance * self.interestRate / 100)\n",
    "\n",
    "\n",
    "obj1 = SavingsAccount(\"Ashish\", 5000, 5)\n",
    "print(\"Initial Balance:\", obj1.getBalance())\n",
    "print(\"Interest on current balance:\", obj1.interestAmount())\n"
   ]
  },
  {
   "cell_type": "markdown",
   "id": "6ce17162",
   "metadata": {},
   "source": [
    "# Challenge 3: Implement the Complete Student Class"
   ]
  },
  {
   "cell_type": "code",
   "execution_count": null,
   "id": "e0e2fbbb",
   "metadata": {},
   "outputs": [],
   "source": [
    "class Student:\n",
    "    def setName(self):\n",
    "        pass\n",
    "\n",
    "    def getName(self):\n",
    "        pass\n",
    "\n",
    "    def setRollNumber(self):\n",
    "        pass\n",
    "\n",
    "    def getRollNumber(self):\n",
    "        pass\n",
    "    "
   ]
  },
  {
   "cell_type": "code",
   "execution_count": 5,
   "id": "f218813a",
   "metadata": {},
   "outputs": [
    {
     "name": "stdout",
     "output_type": "stream",
     "text": [
      "Name: Shamanth BM\n",
      "Roll Number: 1145\n"
     ]
    }
   ],
   "source": [
    "class Student:\n",
    "    __name = None\n",
    "    __rollNumber = None\n",
    "    \n",
    "    def setName(self, name):\n",
    "        self.__name = name\n",
    "\n",
    "    def getName(self):\n",
    "        return self.__name\n",
    "\n",
    "    def setRollNumber(self, rollNumber):\n",
    "        self.__rollNumber = rollNumber\n",
    "\n",
    "    def getRollNumber(self):\n",
    "        return self.__rollNumber\n",
    "\n",
    "\n",
    "call = Student()\n",
    "\n",
    "call.setName(\"Shamanth BM\")\n",
    "print(\"Name:\", call.getName())\n",
    "\n",
    "call.setRollNumber(1145)\n",
    "print(\"Roll Number:\", call.getRollNumber())"
   ]
  },
  {
   "cell_type": "markdown",
   "id": "e76cdb3c",
   "metadata": {},
   "source": [
    "# Handling bank account"
   ]
  },
  {
   "cell_type": "code",
   "execution_count": 17,
   "id": "5e75a82b",
   "metadata": {},
   "outputs": [
    {
     "name": "stdout",
     "output_type": "stream",
     "text": [
      "Balance: 2000\n"
     ]
    }
   ],
   "source": [
    "class Account:  \n",
    "    def __init__(self, balance=0):\n",
    "        self.balance = balance\n",
    "    \n",
    "    def getBalance(self):\n",
    "        return self.balance\n",
    "\n",
    "\n",
    "obj1 = Account(2000)\n",
    "print(\"Balance:\", obj1.getBalance())"
   ]
  },
  {
   "cell_type": "code",
   "execution_count": 15,
   "id": "f08e5182",
   "metadata": {},
   "outputs": [
    {
     "name": "stdout",
     "output_type": "stream",
     "text": [
      "Initial Balance: 2000\n",
      "Balance after withdrawal: 1500\n"
     ]
    }
   ],
   "source": [
    "class Account: \n",
    "    def __init__(self, balance):\n",
    "        self.balance = balance\n",
    "        \n",
    "    def withdrawal(self,amount):\n",
    "        self.balance = self.balance-amount\n",
    "        \n",
    "    def getBalance(self):\n",
    "        return self.balance\n",
    "\n",
    "obj1 = Account(2000)\n",
    "print(\"Initial Balance:\", obj1.getBalance())\n",
    "\n",
    "obj1.withdrawal(500)\n",
    "print(\"Balance after withdrawal:\", obj1.getBalance())\n"
   ]
  },
  {
   "cell_type": "code",
   "execution_count": 28,
   "id": "437a74d8",
   "metadata": {},
   "outputs": [
    {
     "name": "stdout",
     "output_type": "stream",
     "text": [
      "Interest on current balance: None\n"
     ]
    }
   ],
   "source": [
    "class Account: \n",
    "    def __init__(self, balance=0, interestRate=0):\n",
    "        self.balance = balance\n",
    "        self.interestRate = interestRate\n",
    "        \n",
    "        \n",
    "    def totalBalance(self):\n",
    "        self.balance = self.balance + (self.balance * self.interestRate / 100)\n",
    "    \n",
    "    \n",
    "obj1 = Account(2000, 5)\n",
    "print(\"Interest on current balance:\", obj1.totalBalance())\n",
    "\n"
   ]
  },
  {
   "cell_type": "code",
   "execution_count": 30,
   "id": "3d96b0a5",
   "metadata": {},
   "outputs": [
    {
     "name": "stdout",
     "output_type": "stream",
     "text": [
      "Initial Balance: 2000\n",
      "Interest on current balance: 100.0\n"
     ]
    }
   ],
   "source": [
    "class Account:  \n",
    "    def __init__(self, title=None, balance=0):\n",
    "        self.title = title\n",
    "        self.balance = balance\n",
    "    \n",
    "    def deposit(self, amount):\n",
    "        self.balance = self.balance + amount\n",
    "    \n",
    "    def getBalance(self):\n",
    "        return self.balance\n",
    "\n",
    "\n",
    "class SavingsAccount(Account):\n",
    "    def __init__(self, title=None, balance=0, interestRate=0):\n",
    "        super().__init__(title, balance)\n",
    "        self.interestRate = interestRate\n",
    "    \n",
    "    def interestAmount(self):\n",
    "        return (self.balance * self.interestRate / 100)\n",
    "\n",
    "\n",
    "obj1 = SavingsAccount(\"Ashish\", 2000, 5)\n",
    "print(\"Initial Balance:\", obj1.getBalance())\n",
    "print(\"Interest on current balance:\", obj1.interestAmount())"
   ]
  },
  {
   "cell_type": "code",
   "execution_count": null,
   "id": "48a3f8c5",
   "metadata": {},
   "outputs": [],
   "source": []
  }
 ],
 "metadata": {
  "kernelspec": {
   "display_name": "Python 3 (ipykernel)",
   "language": "python",
   "name": "python3"
  },
  "language_info": {
   "codemirror_mode": {
    "name": "ipython",
    "version": 3
   },
   "file_extension": ".py",
   "mimetype": "text/x-python",
   "name": "python",
   "nbconvert_exporter": "python",
   "pygments_lexer": "ipython3",
   "version": "3.9.12"
  }
 },
 "nbformat": 4,
 "nbformat_minor": 5
}
